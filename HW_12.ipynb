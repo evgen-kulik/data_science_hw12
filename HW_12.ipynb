{
  "nbformat": 4,
  "nbformat_minor": 0,
  "metadata": {
    "colab": {
      "provenance": []
    },
    "kernelspec": {
      "name": "python3",
      "display_name": "Python 3"
    },
    "language_info": {
      "name": "python"
    }
  },
  "cells": [
    {
      "cell_type": "markdown",
      "source": [
        "# Домашнє завдання 12\n",
        "\n",
        "Створення summary тексту використовуючи бібліотеки для NLP: nltk та SpaCy\n",
        "\n"
      ],
      "metadata": {
        "id": "ka9Et4XkUvGq"
      }
    },
    {
      "cell_type": "code",
      "source": [
        "# текст для обробки\n",
        "text = 'The Orbiter Discovery, OV-103, is considered eligible for listing in the National Register of Historic Places (NRHP) in the context of the U.S. Space Shuttle Program (1969-2011) under Criterion A in the areas of Space Exploration and Transportation and under Criterion C in the area of Engineering. Because it has achieved significance within the past fifty years, Criteria Consideration G applies. Under Criterion A, Discovery is significant as the oldest of the three extant orbiter vehicles constructed for the Space Shuttle Program (SSP), the longest running American space program to date; she was the third of five orbiters built by NASA. Unlike the Mercury, Gemini, and Apollo programs, the SSP’s emphasis was on cost effectiveness and reusability, and eventually the construction of a space station. Including her maiden voyage (launched August 30, 1984), Discovery flew to space thirty-nine times, more than any of the other four orbiters; she was also the first orbiter to fly twenty missions. She had the honor of being chosen as the Return to Flight vehicle after both the Challenger and Columbia accidents. Discovery was the first shuttle to fly with the redesigned SRBs, a result of the Challenger accident, and the first shuttle to fly with the Phase II and Block I SSME. Discovery also carried the Hubble Space Telescope to orbit and performed two of the five servicing missions to the observatory. She flew the first and last dedicated Department of Defense (DoD) missions, as well as the first unclassified defense-related mission. In addition, Discovery was vital to the construction of the International Space Station (ISS); she flew thirteen of the thirty-seven total missions flown to the station by a U.S. Space Shuttle. She was the first orbiter to dock to the ISS, and the first to perform an exchange of a resident crew. Under Criterion C, Discovery is significant as a feat of engineering. According to Wayne Hale, a flight director from Johnson Space Center, the Space Shuttle orbiter represents a “huge technological leap from expendable rockets and capsules to a reusable, winged, hypersonic, cargo-carrying spacecraft.” Although her base structure followed a conventional aircraft design, she used advanced materials that both minimized her weight for cargo-carrying purposes and featured low thermal expansion ratios, which provided a stable base for her Thermal Protection System (TPS) materials. The Space Shuttle orbiter also featured the first reusable TPS; all previous spaceflight vehicles had a single-use, ablative heat shield. Other notable engineering achievements of the orbiter included the first reusable orbital propulsion system, and the first two-fault-tolerant Integrated Avionics System. As Hale stated, the Space Shuttle remains “the largest, fastest, winged hypersonic aircraft in history,” having regularly flown at twenty-five times the speed of sound.'"
      ],
      "metadata": {
        "id": "9tYN0G4KW0vJ"
      },
      "execution_count": 116,
      "outputs": []
    },
    {
      "cell_type": "markdown",
      "source": [
        "#### 1. Summary з використанням бібліотеки nltk"
      ],
      "metadata": {
        "id": "fqZRWGg4U_ri"
      }
    },
    {
      "cell_type": "code",
      "execution_count": 117,
      "metadata": {
        "id": "U5gJ637tUpNf"
      },
      "outputs": [],
      "source": [
        "import nltk\n",
        "\n",
        "from nltk.corpus import stopwords\n",
        "# модуль, який містить стандартний список стоп-слів.\n",
        "# стоп-слова - це слова, які зазвичай не несуть інформації та можуть бути вилучені для поліпшення обробки тексту\n",
        "\n",
        "from nltk.tokenize import word_tokenize, sent_tokenize\n",
        "# word_tokenize використовується для розбиття тексту на токени (слова)\n",
        "# sent_tokenize використовується для розбиття тексту на речення\n",
        "\n",
        "from nltk.probability import FreqDist\n",
        "# використовується для обчислення частоти входження елементів в послідовність"
      ]
    },
    {
      "cell_type": "code",
      "source": [
        "# розіб'ємо текст на окремі речення (отримаємо список речень)\n",
        "nltk.download('punkt')  # завантажуємо необхідний ресурс для розбиття на речення\n",
        "sentences = sent_tokenize(text)\n",
        "sentences[:2]"
      ],
      "metadata": {
        "colab": {
          "base_uri": "https://localhost:8080/"
        },
        "id": "fVpBPsoHWlNs",
        "outputId": "468dbf98-fed1-4a2b-d482-701394281741"
      },
      "execution_count": 118,
      "outputs": [
        {
          "output_type": "stream",
          "name": "stderr",
          "text": [
            "[nltk_data] Downloading package punkt to /root/nltk_data...\n",
            "[nltk_data]   Package punkt is already up-to-date!\n"
          ]
        },
        {
          "output_type": "execute_result",
          "data": {
            "text/plain": [
              "['The Orbiter Discovery, OV-103, is considered eligible for listing in the National Register of Historic Places (NRHP) in the context of the U.S. Space Shuttle Program (1969-2011) under Criterion A in the areas of Space Exploration and Transportation and under Criterion C in the area of Engineering.',\n",
              " 'Because it has achieved significance within the past fifty years, Criteria Consideration G applies.']"
            ]
          },
          "metadata": {},
          "execution_count": 118
        }
      ]
    },
    {
      "cell_type": "code",
      "source": [
        "# розіб'ємо текст на окремі токени (слова, знаки пунктуації) (отримаємо список токенів)\n",
        "tokens = word_tokenize(text.lower())\n",
        "tokens[:5]"
      ],
      "metadata": {
        "colab": {
          "base_uri": "https://localhost:8080/"
        },
        "id": "8R-n3hzVc4i3",
        "outputId": "82d93374-a20f-4947-fcf2-39c94dc3cd59"
      },
      "execution_count": 119,
      "outputs": [
        {
          "output_type": "execute_result",
          "data": {
            "text/plain": [
              "['the', 'orbiter', 'discovery', ',', 'ov-103']"
            ]
          },
          "metadata": {},
          "execution_count": 119
        }
      ]
    },
    {
      "cell_type": "code",
      "source": [
        "# створимо множину з англійськими стоп-словами\n",
        "nltk.download('stopwords')\n",
        "stop_words = set(stopwords.words('english'))\n",
        "# stop_words"
      ],
      "metadata": {
        "colab": {
          "base_uri": "https://localhost:8080/"
        },
        "id": "-zhn88MJfxdT",
        "outputId": "f4cce469-2f2a-4d5b-ae0f-bb6d8641bd64"
      },
      "execution_count": 120,
      "outputs": [
        {
          "output_type": "stream",
          "name": "stderr",
          "text": [
            "[nltk_data] Downloading package stopwords to /root/nltk_data...\n",
            "[nltk_data]   Package stopwords is already up-to-date!\n"
          ]
        }
      ]
    },
    {
      "cell_type": "code",
      "source": [
        "# додамо змінну пунктуації\n",
        "import string\n",
        "\n",
        "# Отримання рядка всіх символів роздільників\n",
        "punctuation = string.punctuation\n",
        "punctuation = punctuation + '\\n'  # додамо символ перенесення на наступний рядок\n",
        "punctuation"
      ],
      "metadata": {
        "colab": {
          "base_uri": "https://localhost:8080/",
          "height": 36
        },
        "id": "IeZGLfn2rdHw",
        "outputId": "77dd5db8-7ceb-4515-9d56-c4e75362f69b"
      },
      "execution_count": 121,
      "outputs": [
        {
          "output_type": "execute_result",
          "data": {
            "text/plain": [
              "'!\"#$%&\\'()*+,-./:;<=>?@[\\\\]^_`{|}~\\n'"
            ],
            "application/vnd.google.colaboratory.intrinsic+json": {
              "type": "string"
            }
          },
          "metadata": {},
          "execution_count": 121
        }
      ]
    },
    {
      "cell_type": "code",
      "source": [
        "# створимо словник з ключами-словами та значеннями-частотами, після виключення стоп-слів та знаків пунктуації\n",
        "word_frequencies = {}\n",
        "for word in tokens:\n",
        "    if word.isalnum() and word not in stop_words:  # перевірка, чи слово складається лише з літер та цифр (.isalnum())\n",
        "        if word not in word_frequencies:\n",
        "            word_frequencies[word] = 1\n",
        "        else:\n",
        "            word_frequencies[word] += 1\n",
        "\n",
        "# word_frequencies"
      ],
      "metadata": {
        "id": "ZIsnOnEJsvJU"
      },
      "execution_count": 122,
      "outputs": []
    },
    {
      "cell_type": "code",
      "source": [
        "# визначимо ваги речень на основі частоти слів, помістимо дані в словник\n",
        "sentence_scores = {}\n",
        "for sentence in sentences:\n",
        "    for word, freq in word_frequencies.items():\n",
        "        if word in sentence.lower():\n",
        "            if sentence not in sentence_scores:\n",
        "                sentence_scores[sentence] = freq\n",
        "            else:\n",
        "                sentence_scores[sentence] += freq\n",
        "\n",
        "# sentence_scores"
      ],
      "metadata": {
        "id": "ucKmRQqlw2m0"
      },
      "execution_count": 123,
      "outputs": []
    },
    {
      "cell_type": "code",
      "source": [
        "# Використання heapq для отримання топ-N речень\n",
        "import heapq\n",
        "\n",
        "num_sentences = 3  # задаємо кількість топ-N речень\n",
        "summary_sentences = heapq.nlargest(num_sentences, sentence_scores, key=sentence_scores.get)\n",
        "# key=sentence_scores.get - отримати найбільші значення з ітерабельного об'єкту (sentence_scores)"
      ],
      "metadata": {
        "id": "iGJsQHlUxcmy"
      },
      "execution_count": 124,
      "outputs": []
    },
    {
      "cell_type": "code",
      "source": [
        "# об'єднаємо топ-N речень у фінальний summary\n",
        "summary = ' '.join(summary_sentences)\n",
        "summary"
      ],
      "metadata": {
        "colab": {
          "base_uri": "https://localhost:8080/",
          "height": 226
        },
        "id": "6v_8RONMyYlm",
        "outputId": "255dab25-5631-4bf1-fe2e-35da7dafa9fc"
      },
      "execution_count": 125,
      "outputs": [
        {
          "output_type": "execute_result",
          "data": {
            "text/plain": [
              "'According to Wayne Hale, a flight director from Johnson Space Center, the Space Shuttle orbiter represents a “huge technological leap from expendable rockets and capsules to a reusable, winged, hypersonic, cargo-carrying spacecraft.” Although her base structure followed a conventional aircraft design, she used advanced materials that both minimized her weight for cargo-carrying purposes and featured low thermal expansion ratios, which provided a stable base for her Thermal Protection System (TPS) materials. Including her maiden voyage (launched August 30, 1984), Discovery flew to space thirty-nine times, more than any of the other four orbiters; she was also the first orbiter to fly twenty missions. Under Criterion A, Discovery is significant as the oldest of the three extant orbiter vehicles constructed for the Space Shuttle Program (SSP), the longest running American space program to date; she was the third of five orbiters built by NASA.'"
            ],
            "application/vnd.google.colaboratory.intrinsic+json": {
              "type": "string"
            }
          },
          "metadata": {},
          "execution_count": 125
        }
      ]
    }
  ]
}